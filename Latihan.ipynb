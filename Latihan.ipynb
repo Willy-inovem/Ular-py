{
  "nbformat": 4,
  "nbformat_minor": 0,
  "metadata": {
    "colab": {
      "provenance": [],
      "authorship_tag": "ABX9TyM0wE+xh6Bru1/2/2nKFsYy",
      "include_colab_link": true
    },
    "kernelspec": {
      "name": "python3",
      "display_name": "Python 3"
    },
    "language_info": {
      "name": "python"
    }
  },
  "cells": [
    {
      "cell_type": "markdown",
      "metadata": {
        "id": "view-in-github",
        "colab_type": "text"
      },
      "source": [
        "<a href=\"https://colab.research.google.com/github/Willy-inovem/Ular-py/blob/main/Latihan.ipynb\" target=\"_parent\"><img src=\"https://colab.research.google.com/assets/colab-badge.svg\" alt=\"Open In Colab\"/></a>"
      ]
    },
    {
      "cell_type": "code",
      "execution_count": null,
      "metadata": {
        "colab": {
          "base_uri": "https://localhost:8080/"
        },
        "id": "wMZaaKru1iS9",
        "outputId": "b5b0fc39-26b5-4a2e-b3b6-5b95a8354274"
      },
      "outputs": [
        {
          "output_type": "execute_result",
          "data": {
            "text/plain": [
              "3"
            ]
          },
          "metadata": {},
          "execution_count": 1
        }
      ],
      "source": [
        "a=3\n",
        "print(a)\n",
        "type(a)\n"
      ]
    },
    {
      "cell_type": "code",
      "source": [
        "a=3\n",
        "b=4+a\n",
        "b"
      ],
      "metadata": {
        "colab": {
          "base_uri": "https://localhost:8080/"
        },
        "id": "q5tQGe3P24Er",
        "outputId": "f710a47a-d510-47ba-ca73-0870055bf336"
      },
      "execution_count": null,
      "outputs": [
        {
          "output_type": "execute_result",
          "data": {
            "text/plain": [
              "7"
            ]
          },
          "metadata": {},
          "execution_count": 2
        }
      ]
    },
    {
      "cell_type": "code",
      "source": [
        "angka=[1,2,3,4,5,6]\n",
        "type(angka)\n",
        "angka[4]\n",
        "nama=[\"Ade\",\"Aira\",\"Budi\",\"Bagus\"]\n",
        "nama[3]\n",
        "print(nama[3])\n",
        "print(nama)\n",
        "print(angka)"
      ],
      "metadata": {
        "colab": {
          "base_uri": "https://localhost:8080/"
        },
        "id": "WrLdEtUB3TqQ",
        "outputId": "300cc3e7-1011-4a28-feee-755a55743d3d"
      },
      "execution_count": null,
      "outputs": [
        {
          "output_type": "stream",
          "name": "stdout",
          "text": [
            "Bagus\n",
            "['Ade', 'Aira', 'Budi', 'Bagus']\n",
            "[1, 2, 3, 4, 5, 6]\n"
          ]
        }
      ]
    },
    {
      "cell_type": "code",
      "source": [
        "HelloWorld=[\"print\"]\n",
        "type(HelloWorld)\n",
        "HelloWorld"
      ],
      "metadata": {
        "colab": {
          "base_uri": "https://localhost:8080/"
        },
        "id": "VYnx4j6d5c_U",
        "outputId": "f7c71546-c4ae-4e4b-a128-f0d7c9ac4328"
      },
      "execution_count": null,
      "outputs": [
        {
          "output_type": "execute_result",
          "data": {
            "text/plain": [
              "['print']"
            ]
          },
          "metadata": {},
          "execution_count": 9
        }
      ]
    },
    {
      "cell_type": "code",
      "source": [
        "contoh_set = set ([])"
      ],
      "metadata": {
        "id": "YM4RhOi97lf_"
      },
      "execution_count": null,
      "outputs": []
    },
    {
      "cell_type": "code",
      "source": [
        "Belanjaan={\"mangga\":5000,\"Apel\":6000,\n",
        "            \"Semangka\":12000,\"Jeruk\":6000}\n",
        "print(\"Daftar Belanja\")\n",
        "Belanjaan"
      ],
      "metadata": {
        "colab": {
          "base_uri": "https://localhost:8080/"
        },
        "id": "l6vhveXv8NIk",
        "outputId": "847d8212-e58a-486b-dd9b-eaca35531bed"
      },
      "execution_count": null,
      "outputs": [
        {
          "output_type": "stream",
          "name": "stdout",
          "text": [
            "Daftar Belanja\n"
          ]
        },
        {
          "output_type": "execute_result",
          "data": {
            "text/plain": [
              "{'mangga': 5000, 'Apel': 6000, 'Semangka': 12000, 'Jeruk': 6000}"
            ]
          },
          "metadata": {},
          "execution_count": 10
        }
      ]
    }
  ]
}